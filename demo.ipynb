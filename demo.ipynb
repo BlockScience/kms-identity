{
 "cells": [
  {
   "cell_type": "code",
   "execution_count": 4,
   "metadata": {},
   "outputs": [],
   "source": [
    "import api\n",
    "from rid_lib.means import *\n",
    "\n",
    "urls = [\n",
    "    \"https://hackmd.io/XVaejEw-QaCghV1Tkv3eVQ\",\n",
    "    \"https://hackmd.io/y302YrhfRXm64j_51fbEGA\",\n",
    "    \"https://hackmd.io/ynez1CzJS6KPRByPzCwhfA\",\n",
    "    \"https://hackmd.io/Z_7pw2c0RcWuDx4J-pyLtQ\",\n",
    "    \"https://hackmd.io/zgoLdIHlS7SK3hAkxCrP3g\",\n",
    "    \"https://hackmd.io/zqSkxhNvT-Gr9OSg6_ykSQ\",\n",
    "]"
   ]
  },
  {
   "cell_type": "code",
   "execution_count": 5,
   "metadata": {},
   "outputs": [],
   "source": [
    "api.database.drop()"
   ]
  },
  {
   "cell_type": "code",
   "execution_count": 6,
   "metadata": {},
   "outputs": [],
   "source": [
    "slack_account1 = Object.observe_from_string(rid=\"slack_user:blockscienceteam/U04PMMHGERJ\")\n",
    "slack_account2 = Object.observe_from_string(rid=\"slack_user:blockscienceteam/U02EXF2SNRJ\")\n",
    "slack_account3 = Object.observe_from_string(rid=\"slack_user:blockscienceteam/UBS081AKZ\")\n",
    "email_account1 = Object.observe_from_string(rid=\"email:luke@block.science\")\n",
    "email_account1_2 = Object.observe_from_string(rid=\"email:millerluke1364@gmail.com\")\n",
    "email_account2 = Object.observe_from_string(rid=\"email:david@block.science\")\n",
    "email_account3 = Object.observe_from_string(rid=\"email:orion@block.science\")\n",
    "github_account1 = Object.observe_from_string(rid=\"github_user:lukvmil\")\n",
    "github_account2 = Object.observe_from_string(rid=\"github_user:OrionReed\")\n",
    "\n",
    "\n",
    "luke = Agent.create(name=\"luke\", members=[slack_account1.string, email_account1.string, email_account1_2.string, github_account1.string])\n",
    "orion = Agent.create(name=\"orion\", members=[slack_account2.string, email_account2.string, github_account2.string])\n",
    "david = Agent.create(name=\"david\", members=[slack_account3.string, email_account3.string])\n",
    "\n",
    "agents = [luke.string, orion.string, david.string]\n"
   ]
  },
  {
   "cell_type": "code",
   "execution_count": 7,
   "metadata": {},
   "outputs": [
    {
     "name": "stdout",
     "output_type": "stream",
     "text": [
      "could not get HackMD URL (https://hackmd.io/zqSkxhNvT-Gr9OSg6_ykSQ) 403\n",
      "Dereferencing object returned no data\n"
     ]
    }
   ],
   "source": [
    "objects = []\n",
    "\n",
    "for url in urls:\n",
    "    obj = URL(url).transform(means=\"hackmd\")\n",
    "    obj.observe()\n",
    "\n",
    "    objects.append(obj.string)"
   ]
  },
  {
   "cell_type": "code",
   "execution_count": 8,
   "metadata": {},
   "outputs": [],
   "source": [
    "identity = UndirectedAssertion.create(\n",
    "    name=\"Identity\",\n",
    "    members=objects[0:3]\n",
    ")\n",
    "\n",
    "governance = Governance.create(\n",
    "    name=\"KOI Governing Body\",\n",
    "    agents=agents,\n",
    "    assertion=identity.string\n",
    ")"
   ]
  }
 ],
 "metadata": {
  "kernelspec": {
   "display_name": ".env",
   "language": "python",
   "name": "python3"
  },
  "language_info": {
   "codemirror_mode": {
    "name": "ipython",
    "version": 3
   },
   "file_extension": ".py",
   "mimetype": "text/x-python",
   "name": "python",
   "nbconvert_exporter": "python",
   "pygments_lexer": "ipython3",
   "version": "3.11.3"
  },
  "orig_nbformat": 4
 },
 "nbformat": 4,
 "nbformat_minor": 2
}
