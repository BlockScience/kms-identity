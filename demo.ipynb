{
 "cells": [
  {
   "cell_type": "code",
   "execution_count": 12,
   "metadata": {},
   "outputs": [],
   "source": [
    "import api\n",
    "from rid_lib.means import *"
   ]
  },
  {
   "cell_type": "code",
   "execution_count": 13,
   "metadata": {},
   "outputs": [],
   "source": [
    "api.database.drop()"
   ]
  },
  {
   "cell_type": "code",
   "execution_count": 14,
   "metadata": {},
   "outputs": [],
   "source": [
    "slack_account1 = Object.from_string(rid=\"slack_user:blockscienceteam/U04PMMHGERJ\", observe=True)\n",
    "slack_account2 = Object.from_string(rid=\"slack_user:blockscienceteam/U02EXF2SNRJ\", observe=True)\n",
    "slack_account3 = Object.from_string(rid=\"slack_user:blockscienceteam/UBS081AKZ\", observe=True)\n",
    "email_account1 = Object.from_string(rid=\"email:luke@block.science\", observe=True)\n",
    "email_account1_2 = Object.from_string(rid=\"email:millerluke1364@gmail.com\", observe=True)\n",
    "email_account2 = Object.from_string(rid=\"email:david@block.science\", observe=True)\n",
    "email_account3 = Object.from_string(rid=\"email:orion@block.science\", observe=True)\n",
    "github_account1 = Object.from_string(rid=\"github_user:lukvmil\", observe=True)\n",
    "github_account2 = Object.from_string(rid=\"github_user:OrionReed\", observe=True)\n",
    "\n",
    "\n",
    "luke = Agent.create(name=\"luke\", members=[slack_account1.string, email_account1.string, email_account1_2.string, github_account1.string])\n",
    "orion = Agent.create(name=\"orion\", members=[slack_account2.string, email_account2.string, github_account2.string])\n",
    "david = Agent.create(name=\"david\", members=[slack_account3.string, email_account3.string])\n",
    "\n",
    "agents = [luke.string, orion.string, david.string]\n"
   ]
  },
  {
   "cell_type": "code",
   "execution_count": 15,
   "metadata": {},
   "outputs": [
    {
     "name": "stdout",
     "output_type": "stream",
     "text": [
      "could not get HackMD URL (https://hackmd.io/zqSkxhNvT-Gr9OSg6_ykSQ) 403\n",
      "Dereferencing object returned no data\n"
     ]
    }
   ],
   "source": [
    "objects = []\n",
    "\n",
    "for url in [\n",
    "    \"https://hackmd.io/XVaejEw-QaCghV1Tkv3eVQ\",\n",
    "    \"https://hackmd.io/y302YrhfRXm64j_51fbEGA\",\n",
    "    \"https://hackmd.io/ynez1CzJS6KPRByPzCwhfA\",\n",
    "    \"https://hackmd.io/Z_7pw2c0RcWuDx4J-pyLtQ\",\n",
    "    \"https://hackmd.io/zgoLdIHlS7SK3hAkxCrP3g\",\n",
    "    \"https://hackmd.io/zqSkxhNvT-Gr9OSg6_ykSQ\",\n",
    "]:\n",
    "    obj = URL(url).transform(means=\"hackmd\")\n",
    "    obj.observe()\n",
    "\n",
    "    objects.append(obj.string)"
   ]
  },
  {
   "cell_type": "code",
   "execution_count": 16,
   "metadata": {},
   "outputs": [],
   "source": [
    "identity = UndirectedAssertion.create(\n",
    "    name=\"Relevant Documents\",\n",
    "    members=objects[0:3]\n",
    ")\n",
    "\n",
    "governance = Governance.create(\n",
    "    name=\"KOI Governing Body\",\n",
    "    agents=agents,\n",
    "    assertion=identity.string\n",
    ")"
   ]
  },
  {
   "cell_type": "code",
   "execution_count": 17,
   "metadata": {},
   "outputs": [
    {
     "data": {
      "text/plain": [
       "Belief object 'belief:[agent:david]->[und_asrt:eMc5eJfKyu95ov838bV03]'"
      ]
     },
     "execution_count": 17,
     "metadata": {},
     "output_type": "execute_result"
    }
   ],
   "source": [
    "Belief.set(agent=luke.string, object=identity.string, value=0.7)\n",
    "Belief.set(agent=orion.string, object=identity.string, value=0.75)\n",
    "Belief.set(agent=david.string, object=identity.string, value=0.4)"
   ]
  },
  {
   "cell_type": "code",
   "execution_count": 18,
   "metadata": {},
   "outputs": [],
   "source": [
    "# identity.update_members(remove=objects[0:1])\n",
    "\n",
    "governance.act({\n",
    "    \"as\": david.string,\n",
    "    \"action\": \"update_members\",\n",
    "    \"context\": {\n",
    "        \"remove\": objects[0:1]\n",
    "    }\n",
    "})"
   ]
  },
  {
   "cell_type": "code",
   "execution_count": 19,
   "metadata": {},
   "outputs": [
    {
     "data": {
      "text/plain": [
       "Belief object 'belief:[agent:david]->[und_asrt:eMc5eJfKyu95ov838bV03]'"
      ]
     },
     "execution_count": 19,
     "metadata": {},
     "output_type": "execute_result"
    }
   ],
   "source": [
    "Belief.set(agent=luke.string, object=identity.string, value=0.3)\n",
    "Belief.set(agent=orion.string, object=identity.string, value=0.8)\n",
    "Belief.set(agent=david.string, object=identity.string, value=0.6)"
   ]
  },
  {
   "cell_type": "code",
   "execution_count": 20,
   "metadata": {},
   "outputs": [
    {
     "name": "stdout",
     "output_type": "stream",
     "text": [
      "[{'means': 'und_asrt', 'context': {'remove': ['hackmd:XVaejEw-QaCghV1Tkv3eVQ']}, 'action': 'update_members'}, {'means': 'und_asrt', 'context': {'name': 'Relevant Documents', 'members': ['hackmd:XVaejEw-QaCghV1Tkv3eVQ', 'hackmd:y302YrhfRXm64j_51fbEGA', 'hackmd:ynez1CzJS6KPRByPzCwhfA']}, 'action': 'create'}]\n"
     ]
    }
   ],
   "source": [
    "lukes_identity = identity.fork()\n",
    "lukes_identity.update(name=\"Luke's Curated Documents\")\n",
    "lukes_identity.update_members(add=objects[0:1])"
   ]
  },
  {
   "cell_type": "code",
   "execution_count": 21,
   "metadata": {},
   "outputs": [
    {
     "data": {
      "text/plain": [
       "Belief object 'belief:[agent:david]->[und_asrt:-N922MZI4IuZIR94iKvn5]'"
      ]
     },
     "execution_count": 21,
     "metadata": {},
     "output_type": "execute_result"
    }
   ],
   "source": [
    "Belief.set(agent=luke.string, object=lukes_identity.string, value=0.9)\n",
    "Belief.set(agent=orion.string, object=lukes_identity.string, value=0.85)\n",
    "Belief.set(agent=david.string, object=lukes_identity.string, value=0.2)"
   ]
  }
 ],
 "metadata": {
  "kernelspec": {
   "display_name": ".env",
   "language": "python",
   "name": "python3"
  },
  "language_info": {
   "codemirror_mode": {
    "name": "ipython",
    "version": 3
   },
   "file_extension": ".py",
   "mimetype": "text/x-python",
   "name": "python",
   "nbconvert_exporter": "python",
   "pygments_lexer": "ipython3",
   "version": "3.11.3"
  },
  "orig_nbformat": 4
 },
 "nbformat": 4,
 "nbformat_minor": 2
}
