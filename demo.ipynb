{
 "cells": [
  {
   "cell_type": "code",
   "execution_count": 1,
   "metadata": {},
   "outputs": [],
   "source": [
    "import api\n",
    "from rid_lib.means import *\n",
    "\n",
    "urls = [\n",
    "    \"https://hackmd.io/XVaejEw-QaCghV1Tkv3eVQ\",\n",
    "    \"https://hackmd.io/y302YrhfRXm64j_51fbEGA\",\n",
    "    \"https://hackmd.io/ynez1CzJS6KPRByPzCwhfA\",\n",
    "    \"https://hackmd.io/Z_7pw2c0RcWuDx4J-pyLtQ\",\n",
    "    \"https://hackmd.io/zgoLdIHlS7SK3hAkxCrP3g\",\n",
    "    \"https://hackmd.io/zqSkxhNvT-Gr9OSg6_ykSQ\",\n",
    "]"
   ]
  },
  {
   "cell_type": "code",
   "execution_count": 2,
   "metadata": {},
   "outputs": [],
   "source": [
    "api.database.drop()"
   ]
  },
  {
   "cell_type": "code",
   "execution_count": 3,
   "metadata": {},
   "outputs": [],
   "source": [
    "account1 = Object.from_string(rid=\"user:luke\")\n",
    "account2 = Object.from_string(rid=\"user:orion\")\n",
    "account3 = Object.from_string(rid=\"user:david\")\n",
    "account1.ingress()\n",
    "account2.ingress()\n",
    "account3.ingress()\n",
    "\n",
    "\n",
    "luke = Agent.create(name=\"luke\", members=[account1.string])\n",
    "orion = Agent.create(name=\"orion\", members=[account2.string])\n",
    "david = Agent.create(name=\"david\", members=[account3.string])\n",
    "\n",
    "agents = [luke.string, orion.string, david.string]\n"
   ]
  },
  {
   "cell_type": "code",
   "execution_count": 4,
   "metadata": {},
   "outputs": [
    {
     "name": "stdout",
     "output_type": "stream",
     "text": [
      "could not get HackMD URL (https://hackmd.io/zqSkxhNvT-Gr9OSg6_ykSQ) 403\n",
      "Dereferencing object returned no data\n"
     ]
    }
   ],
   "source": [
    "objects = []\n",
    "\n",
    "for url in urls:\n",
    "    obj = URL(url).transform(means=\"hackmd\")\n",
    "    obj.ingress()\n",
    "\n",
    "    objects.append(obj.string)"
   ]
  },
  {
   "cell_type": "code",
   "execution_count": 5,
   "metadata": {},
   "outputs": [],
   "source": [
    "identity = UndirectedAssertion.create(\n",
    "    name=\"Identity\",\n",
    "    members=objects[0:3]\n",
    ")\n",
    "\n",
    "governance = Governance.create(\n",
    "    name=\"KOI Governing Body\",\n",
    "    agents=agents,\n",
    "    assertion=identity.string\n",
    ")"
   ]
  },
  {
   "cell_type": "code",
   "execution_count": 6,
   "metadata": {},
   "outputs": [
    {
     "data": {
      "text/plain": [
       "Belief object 'belief:[agent:david]->[und_asrt:qntsp6tHLVYDxo9_2vjY_]'"
      ]
     },
     "execution_count": 6,
     "metadata": {},
     "output_type": "execute_result"
    }
   ],
   "source": [
    "Belief.set(agent=luke.string, object=identity.string, value=0.3)\n",
    "Belief.set(agent=orion.string, object=identity.string, value=0.8)\n",
    "Belief.set(agent=david.string, object=identity.string, value=0.6)"
   ]
  },
  {
   "cell_type": "code",
   "execution_count": 7,
   "metadata": {},
   "outputs": [],
   "source": [
    "lukes_identity = identity.fork()\n",
    "lukes_identity.update(name=\"Luke's Identity\")\n",
    "lukes_identity.update_members(remove=objects[0:1])"
   ]
  },
  {
   "cell_type": "code",
   "execution_count": 8,
   "metadata": {},
   "outputs": [
    {
     "data": {
      "text/plain": [
       "Belief object 'belief:[agent:david]->[und_asrt:p9EuLQRuSwIPpo_MDBchj]'"
      ]
     },
     "execution_count": 8,
     "metadata": {},
     "output_type": "execute_result"
    }
   ],
   "source": [
    "Belief.set(agent=luke.string, object=lukes_identity.string, value=0.9)\n",
    "Belief.set(agent=orion.string, object=lukes_identity.string, value=0.85)\n",
    "Belief.set(agent=david.string, object=lukes_identity.string, value=0.2)"
   ]
  },
  {
   "cell_type": "code",
   "execution_count": null,
   "metadata": {},
   "outputs": [],
   "source": []
  }
 ],
 "metadata": {
  "kernelspec": {
   "display_name": ".env",
   "language": "python",
   "name": "python3"
  },
  "language_info": {
   "codemirror_mode": {
    "name": "ipython",
    "version": 3
   },
   "file_extension": ".py",
   "mimetype": "text/x-python",
   "name": "python",
   "nbconvert_exporter": "python",
   "pygments_lexer": "ipython3",
   "version": "3.11.3"
  },
  "orig_nbformat": 4
 },
 "nbformat": 4,
 "nbformat_minor": 2
}
