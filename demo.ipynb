{
 "cells": [
  {
   "cell_type": "code",
   "execution_count": 110,
   "metadata": {},
   "outputs": [],
   "source": [
    "import api\n",
    "from rid_lib import actions, RID\n",
    "from rid_lib.symbols import *\n",
    "\n",
    "urls = [\n",
    "    \"https://hackmd.io/XVaejEw-QaCghV1Tkv3eVQ\",\n",
    "    \"https://hackmd.io/y302YrhfRXm64j_51fbEGA\",\n",
    "    \"https://hackmd.io/ynez1CzJS6KPRByPzCwhfA\",\n",
    "    \"https://hackmd.io/Z_7pw2c0RcWuDx4J-pyLtQ\",\n",
    "    \"https://hackmd.io/zgoLdIHlS7SK3hAkxCrP3g\",\n",
    "    \"https://hackmd.io/zqSkxhNvT-Gr9OSg6_ykSQ\",\n",
    "]"
   ]
  },
  {
   "cell_type": "code",
   "execution_count": 111,
   "metadata": {},
   "outputs": [],
   "source": [
    "api.database.drop()"
   ]
  },
  {
   "cell_type": "code",
   "execution_count": 112,
   "metadata": {},
   "outputs": [
    {
     "name": "stdout",
     "output_type": "stream",
     "text": [
      "No entry for 'agent' found in means module\n",
      "No entry for 'agent' found in means module\n",
      "No entry for 'agent' found in means module\n"
     ]
    }
   ],
   "source": [
    "agents = []\n",
    "\n",
    "for agent in [\"luke\", \"orion\", \"david\"]:\n",
    "    obj = api.objects.create_object(obj={\n",
    "        \"rid\": {\n",
    "            \"means\": \"agent\",\n",
    "            \"reference\": agent\n",
    "        }\n",
    "    })[\"rid\"]\n",
    "\n",
    "    agent_asrt, _ = actions.lookup(UNDIRECTED_ASSERTION, \"create\").run({\n",
    "        \"name\": agent,\n",
    "        \"label\": \"Agent\",\n",
    "        \"members\": [obj]\n",
    "    })\n",
    "\n",
    "    agents.append(agent_asrt.string)"
   ]
  },
  {
   "cell_type": "code",
   "execution_count": 113,
   "metadata": {},
   "outputs": [
    {
     "name": "stdout",
     "output_type": "stream",
     "text": [
      "added hackmd:XVaejEw-QaCghV1Tkv3eVQ\n",
      "added hackmd:y302YrhfRXm64j_51fbEGA\n",
      "added hackmd:ynez1CzJS6KPRByPzCwhfA\n",
      "added hackmd:Z_7pw2c0RcWuDx4J-pyLtQ\n",
      "added hackmd:zgoLdIHlS7SK3hAkxCrP3g\n",
      "could not get HackMD URL (https://hackmd.io/zqSkxhNvT-Gr9OSg6_ykSQ) 403\n",
      "added hackmd:zqSkxhNvT-Gr9OSg6_ykSQ\n"
     ]
    }
   ],
   "source": [
    "objects = []\n",
    "\n",
    "for url in urls:\n",
    "    obj = api.objects.create_object(obj={\n",
    "        \"rid\": {\n",
    "            \"reference\": url,\n",
    "            \"means\": \"url\"\n",
    "        },\n",
    "        \"transform\": \"hackmd\"\n",
    "    })[\"rid\"]\n",
    "\n",
    "    print(f\"added {obj}\")\n",
    "\n",
    "    objects.append(obj)"
   ]
  },
  {
   "cell_type": "code",
   "execution_count": 114,
   "metadata": {},
   "outputs": [],
   "source": [
    "id_asrt, _ = actions.lookup(UNDIRECTED_ASSERTION, \"create\").run({\n",
    "    \"name\": \"Identity\",\n",
    "    \"members\": objects[0:3]\n",
    "})\n",
    "\n",
    "gov_asrt, _ = actions.lookup(DIRECTED_ASSERTION, \"create\").run({\n",
    "    \"name\": \"KOI Governing Body\",\n",
    "    \"label\": \"Governance\",\n",
    "    \"from\": agents,\n",
    "    \"to\": [id_asrt.string]\n",
    "})"
   ]
  },
  {
   "cell_type": "code",
   "execution_count": 115,
   "metadata": {},
   "outputs": [],
   "source": [
    "actions.lookup(UNDIRECTED_ASSERTION, \"update_members\").run(\n",
    "    id_asrt,\n",
    "    {\n",
    "        \"add\": objects[3:4]\n",
    "    }\n",
    ")"
   ]
  },
  {
   "cell_type": "code",
   "execution_count": 116,
   "metadata": {},
   "outputs": [],
   "source": [
    "actions.lookup(UNDIRECTED_ASSERTION, \"update_members\").run(\n",
    "    id_asrt,\n",
    "    {\n",
    "        \"add\": objects[4:5]\n",
    "    }\n",
    ")"
   ]
  },
  {
   "cell_type": "code",
   "execution_count": 117,
   "metadata": {},
   "outputs": [
    {
     "data": {
      "text/plain": [
       "(RID object ('dir_asrt', 'MeqZUnLPaiJdSCGnK0oTs'),\n",
       " {'rid': 'dir_asrt:MeqZUnLPaiJdSCGnK0oTs',\n",
       "  'from': ['und_asrt:AhGq5MumeZ19aoG6RaUu6'],\n",
       "  'to': ['und_asrt:KhULBMgEeJG4AJVCCwSGb']})"
      ]
     },
     "execution_count": 117,
     "metadata": {},
     "output_type": "execute_result"
    }
   ],
   "source": [
    "actions.lookup(DIRECTED_ASSERTION, \"create\").run({\n",
    "    \"label\": \"Belief\",\n",
    "    \"value\": 0.3,\n",
    "    \"from\": [agents[0]],\n",
    "    \"to\": [id_asrt.string]\n",
    "})\n",
    "\n",
    "actions.lookup(DIRECTED_ASSERTION, \"create\").run({\n",
    "    \"label\": \"Belief\",\n",
    "    \"value\": 0.8,\n",
    "    \"from\": [agents[1]],\n",
    "    \"to\": [id_asrt.string]\n",
    "})\n",
    "\n",
    "actions.lookup(DIRECTED_ASSERTION, \"create\").run({\n",
    "    \"label\": \"Belief\",\n",
    "    \"value\": 0.6,\n",
    "    \"from\": [agents[2]],\n",
    "    \"to\": [id_asrt.string]\n",
    "})"
   ]
  },
  {
   "cell_type": "code",
   "execution_count": 118,
   "metadata": {},
   "outputs": [],
   "source": [
    "forked_id_asrt = actions.lookup(UNDIRECTED_ASSERTION, \"fork\").run(id_asrt)\n",
    "\n",
    "actions.lookup(UNDIRECTED_ASSERTION, \"update\").run(\n",
    "    forked_id_asrt,\n",
    "    {\n",
    "        \"name\": \"Luke's Identity\"\n",
    "    }\n",
    ")"
   ]
  },
  {
   "cell_type": "code",
   "execution_count": 119,
   "metadata": {},
   "outputs": [],
   "source": [
    "actions.lookup(UNDIRECTED_ASSERTION, \"update_members\").run(\n",
    "    forked_id_asrt,\n",
    "    {\n",
    "        \"remove\": objects[0:3]\n",
    "    }\n",
    ")"
   ]
  },
  {
   "cell_type": "code",
   "execution_count": 120,
   "metadata": {},
   "outputs": [
    {
     "data": {
      "text/plain": [
       "(RID object ('dir_asrt', 'HtGWICDoIdV5nNPE1ul9e'),\n",
       " {'rid': 'dir_asrt:HtGWICDoIdV5nNPE1ul9e',\n",
       "  'from': ['und_asrt:AhGq5MumeZ19aoG6RaUu6'],\n",
       "  'to': ['und_asrt:jZQkRfYsMVbG1scbtnCK8']})"
      ]
     },
     "execution_count": 120,
     "metadata": {},
     "output_type": "execute_result"
    }
   ],
   "source": [
    "actions.lookup(DIRECTED_ASSERTION, \"create\").run({\n",
    "    \"label\": \"Belief\",\n",
    "    \"value\": 0.9,\n",
    "    \"from\": [agents[0]],\n",
    "    \"to\": [forked_id_asrt.string]\n",
    "})\n",
    "\n",
    "actions.lookup(DIRECTED_ASSERTION, \"create\").run({\n",
    "    \"label\": \"Belief\",\n",
    "    \"value\": 0.85,\n",
    "    \"from\": [agents[1]],\n",
    "    \"to\": [forked_id_asrt.string]\n",
    "})\n",
    "\n",
    "actions.lookup(DIRECTED_ASSERTION, \"create\").run({\n",
    "    \"label\": \"Belief\",\n",
    "    \"value\": 0.2,\n",
    "    \"from\": [agents[2]],\n",
    "    \"to\": [forked_id_asrt.string]\n",
    "})"
   ]
  }
 ],
 "metadata": {
  "kernelspec": {
   "display_name": ".env",
   "language": "python",
   "name": "python3"
  },
  "language_info": {
   "codemirror_mode": {
    "name": "ipython",
    "version": 3
   },
   "file_extension": ".py",
   "mimetype": "text/x-python",
   "name": "python",
   "nbconvert_exporter": "python",
   "pygments_lexer": "ipython3",
   "version": "3.11.3"
  },
  "orig_nbformat": 4
 },
 "nbformat": 4,
 "nbformat_minor": 2
}
